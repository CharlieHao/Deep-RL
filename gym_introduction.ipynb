{
 "cells": [
  {
   "cell_type": "code",
   "execution_count": 1,
   "metadata": {
    "collapsed": true
   },
   "outputs": [],
   "source": [
    "import gym"
   ]
  },
  {
   "cell_type": "markdown",
   "metadata": {},
   "source": [
    "## BASIC"
   ]
  },
  {
   "cell_type": "markdown",
   "metadata": {},
   "source": [
    "#### get environment"
   ]
  },
  {
   "cell_type": "code",
   "execution_count": 2,
   "metadata": {
    "collapsed": true
   },
   "outputs": [],
   "source": [
    "env = gym.make('CartPole-v0')"
   ]
  },
  {
   "cell_type": "markdown",
   "metadata": {},
   "source": [
    "#### start an episode "
   ]
  },
  {
   "cell_type": "code",
   "execution_count": 3,
   "metadata": {},
   "outputs": [
    {
     "data": {
      "text/plain": [
       "array([ 0.04438647,  0.01521852, -0.03397071,  0.02352704])"
      ]
     },
     "execution_count": 3,
     "metadata": {},
     "output_type": "execute_result"
    }
   ],
   "source": [
    "# 1. put yourself in the start position\n",
    "env.reset()"
   ]
  },
  {
   "cell_type": "code",
   "execution_count": 4,
   "metadata": {
    "collapsed": true
   },
   "outputs": [],
   "source": [
    "# return is an array: 4 float number \n",
    "## [cart position, cart velocity, pole angle, pole velocity]"
   ]
  },
  {
   "cell_type": "code",
   "execution_count": 5,
   "metadata": {
    "collapsed": true
   },
   "outputs": [],
   "source": [
    "box = env.observation_space"
   ]
  },
  {
   "cell_type": "code",
   "execution_count": 8,
   "metadata": {},
   "outputs": [
    {
     "data": {
      "text/plain": [
       "Box(4,)"
      ]
     },
     "execution_count": 8,
     "metadata": {},
     "output_type": "execute_result"
    }
   ],
   "source": [
    "box"
   ]
  },
  {
   "cell_type": "markdown",
   "metadata": {},
   "source": [
    "#### Action sapce"
   ]
  },
  {
   "cell_type": "code",
   "execution_count": 9,
   "metadata": {},
   "outputs": [
    {
     "data": {
      "text/plain": [
       "Discrete(2)"
      ]
     },
     "execution_count": 9,
     "metadata": {},
     "output_type": "execute_result"
    }
   ],
   "source": [
    "# action: discrete, 0: pull to left, 1: pull to right\n",
    "env.action_space"
   ]
  },
  {
   "cell_type": "markdown",
   "metadata": {},
   "source": [
    "#### Play an episode, do one step"
   ]
  },
  {
   "cell_type": "code",
   "execution_count": 11,
   "metadata": {},
   "outputs": [],
   "source": [
    "# observation, reward, done, info = env.step(action)\n",
    "## info is meaningless, not allowed to used in your submission"
   ]
  },
  {
   "cell_type": "markdown",
   "metadata": {},
   "source": [
    "#### finish an episode"
   ]
  },
  {
   "cell_type": "code",
   "execution_count": 13,
   "metadata": {
    "collapsed": true
   },
   "outputs": [],
   "source": [
    "# Benchmark\n",
    "## done = False\n",
    "## while not done:\n",
    "#3      observation, reward, done, _ = env.step(env.action_space.sample())"
   ]
  },
  {
   "cell_type": "markdown",
   "metadata": {},
   "source": [
    "## EX: RANDOM SEARCH"
   ]
  },
  {
   "cell_type": "code",
   "execution_count": 14,
   "metadata": {
    "collapsed": true
   },
   "outputs": [],
   "source": [
    "import numpy as np \n",
    "import matplotlib.pyplot as plt"
   ]
  },
  {
   "cell_type": "code",
   "execution_count": 15,
   "metadata": {
    "collapsed": true
   },
   "outputs": [],
   "source": [
    "def get_action(s, w):\n",
    "    return 1 if s.dot(w) > 0 else 0"
   ]
  },
  {
   "cell_type": "code",
   "execution_count": 16,
   "metadata": {
    "collapsed": true
   },
   "outputs": [],
   "source": [
    "def play_one_episode(env, params):\n",
    "    observation = env.reset() # start info\n",
    "    done = False\n",
    "    t = 0\n",
    "\n",
    "    while not done and t < 10000:\n",
    "        # env.render()\n",
    "        t += 1\n",
    "        action = get_action(observation, params) # first, based on the env, get an action\n",
    "        observation, reward, done, info = env.step(action) # second , use action to renew state\n",
    "        if done:\n",
    "            break\n",
    "\n",
    "    return t"
   ]
  },
  {
   "cell_type": "code",
   "execution_count": 17,
   "metadata": {
    "collapsed": true
   },
   "outputs": [],
   "source": [
    "def play_multiple_episodes(env, T, params):\n",
    "    episode_lengths = np.empty(T)\n",
    "\n",
    "    for i in range(T):\n",
    "        episode_lengths[i] = play_one_episode(env, params)\n",
    "\n",
    "    avg_length = episode_lengths.mean()\n",
    "    print(\"avg length:\", avg_length)\n",
    "    return avg_length"
   ]
  },
  {
   "cell_type": "code",
   "execution_count": 18,
   "metadata": {
    "collapsed": true
   },
   "outputs": [],
   "source": [
    "def random_search(env):\n",
    "    episode_lengths = []\n",
    "    best = 0\n",
    "    params = None\n",
    "    for t in range(100):\n",
    "        new_params = np.random.random(4)*2 - 1\n",
    "        avg_length = play_multiple_episodes(env, 100, new_params)\n",
    "        episode_lengths.append(avg_length)\n",
    "\n",
    "        if avg_length > best:\n",
    "            params = new_params\n",
    "            best = avg_length\n",
    "    return episode_lengths, params"
   ]
  },
  {
   "cell_type": "code",
   "execution_count": 19,
   "metadata": {},
   "outputs": [
    {
     "name": "stdout",
     "output_type": "stream",
     "text": [
      "avg length: 52.94\n",
      "avg length: 11.29\n",
      "avg length: 54.09\n",
      "avg length: 8.95\n",
      "avg length: 40.64\n",
      "avg length: 96.36\n",
      "avg length: 141.09\n",
      "avg length: 80.71\n",
      "avg length: 102.32\n",
      "avg length: 8.96\n",
      "avg length: 9.12\n",
      "avg length: 8.88\n",
      "avg length: 72.92\n",
      "avg length: 9.63\n",
      "avg length: 197.56\n",
      "avg length: 9.01\n",
      "avg length: 21.62\n",
      "avg length: 9.63\n",
      "avg length: 9.67\n",
      "avg length: 25.3\n",
      "avg length: 9.6\n",
      "avg length: 43.83\n",
      "avg length: 9.31\n",
      "avg length: 9.36\n",
      "avg length: 97.47\n",
      "avg length: 45.34\n",
      "avg length: 8.97\n",
      "avg length: 85.95\n",
      "avg length: 9.1\n",
      "avg length: 12.57\n",
      "avg length: 9.72\n",
      "avg length: 70.63\n",
      "avg length: 9.69\n",
      "avg length: 138.72\n",
      "avg length: 76.24\n",
      "avg length: 8.7\n",
      "avg length: 60.74\n",
      "avg length: 9.43\n",
      "avg length: 9.34\n",
      "avg length: 9.77\n",
      "avg length: 18.45\n",
      "avg length: 9.1\n",
      "avg length: 8.87\n",
      "avg length: 80.85\n",
      "avg length: 9.01\n",
      "avg length: 9.73\n",
      "avg length: 9.45\n",
      "avg length: 9.06\n",
      "avg length: 11.46\n",
      "avg length: 9.61\n",
      "avg length: 23.81\n",
      "avg length: 191.5\n",
      "avg length: 200.0\n",
      "avg length: 30.04\n",
      "avg length: 22.57\n",
      "avg length: 22.33\n",
      "avg length: 28.9\n",
      "avg length: 9.53\n",
      "avg length: 8.96\n",
      "avg length: 9.52\n",
      "avg length: 8.97\n",
      "avg length: 14.81\n",
      "avg length: 40.4\n",
      "avg length: 9.72\n",
      "avg length: 63.93\n",
      "avg length: 9.17\n",
      "avg length: 9.14\n",
      "avg length: 8.88\n",
      "avg length: 9.04\n",
      "avg length: 9.43\n",
      "avg length: 42.21\n",
      "avg length: 9.65\n",
      "avg length: 109.66\n",
      "avg length: 48.47\n",
      "avg length: 9.05\n",
      "avg length: 9.48\n",
      "avg length: 87.16\n",
      "avg length: 53.0\n",
      "avg length: 9.02\n",
      "avg length: 77.1\n",
      "avg length: 9.53\n",
      "avg length: 53.42\n",
      "avg length: 34.22\n",
      "avg length: 9.61\n",
      "avg length: 9.27\n",
      "avg length: 58.55\n",
      "avg length: 9.76\n",
      "avg length: 167.34\n",
      "avg length: 9.26\n",
      "avg length: 35.3\n",
      "avg length: 9.22\n",
      "avg length: 200.0\n",
      "avg length: 9.41\n",
      "avg length: 9.13\n",
      "avg length: 9.45\n",
      "avg length: 198.92\n",
      "avg length: 8.99\n",
      "avg length: 9.65\n",
      "avg length: 147.83\n",
      "avg length: 9.86\n"
     ]
    },
    {
     "data": {
      "image/png": "[encoded data removed]",
      "text/plain": [
       "<matplotlib.figure.Figure at 0x1036a5898>"
      ]
     },
     "metadata": {},
     "output_type": "display_data"
    },
    {
     "name": "stdout",
     "output_type": "stream",
     "text": [
      "***Final run with final weights***\n",
      "avg length: 200.0\n"
     ]
    }
   ],
   "source": [
    "if __name__ == '__main__':\n",
    "    env = gym.make('CartPole-v0')\n",
    "    episode_lengths, params = random_search(env)\n",
    "    plt.plot(episode_lengths)\n",
    "    plt.show()\n",
    "\n",
    "    # play a final set of episodes\n",
    "    print(\"***Final run with final weights***\")\n",
    "    play_multiple_episodes(env, 100, params)"
   ]
  },
  {
   "cell_type": "markdown",
   "metadata": {},
   "source": [
    "## SAVE A VIDEO"
   ]
  },
  {
   "cell_type": "code",
   "execution_count": 20,
   "metadata": {
    "collapsed": true
   },
   "outputs": [],
   "source": [
    "from gym import wrappers"
   ]
  },
  {
   "cell_type": "code",
   "execution_count": 27,
   "metadata": {},
   "outputs": [
    {
     "name": "stdout",
     "output_type": "stream",
     "text": [
      "avg length: 9.39\n",
      "avg length: 9.04\n",
      "avg length: 9.51\n",
      "avg length: 9.28\n",
      "avg length: 187.33\n",
      "avg length: 9.22\n",
      "avg length: 61.19\n",
      "avg length: 8.89\n",
      "avg length: 9.41\n",
      "avg length: 9.38\n",
      "avg length: 9.59\n",
      "avg length: 9.71\n",
      "avg length: 9.33\n",
      "avg length: 9.44\n",
      "avg length: 9.44\n",
      "avg length: 57.18\n",
      "avg length: 200.0\n",
      "avg length: 58.02\n",
      "avg length: 8.95\n",
      "avg length: 39.2\n",
      "avg length: 200.0\n",
      "avg length: 186.4\n",
      "avg length: 9.02\n",
      "avg length: 79.2\n",
      "avg length: 9.78\n",
      "avg length: 9.66\n",
      "avg length: 9.53\n",
      "avg length: 9.84\n",
      "avg length: 48.21\n",
      "avg length: 128.99\n",
      "avg length: 9.09\n",
      "avg length: 8.73\n",
      "avg length: 9.72\n",
      "avg length: 9.34\n",
      "avg length: 10.89\n",
      "avg length: 8.84\n",
      "avg length: 9.48\n",
      "avg length: 40.01\n",
      "avg length: 45.18\n",
      "avg length: 9.15\n",
      "avg length: 129.49\n",
      "avg length: 11.38\n",
      "avg length: 28.59\n",
      "avg length: 9.35\n",
      "avg length: 9.51\n",
      "avg length: 9.4\n",
      "avg length: 200.0\n",
      "avg length: 8.85\n",
      "avg length: 20.53\n",
      "avg length: 79.04\n",
      "avg length: 63.94\n",
      "avg length: 9.57\n",
      "avg length: 9.28\n",
      "avg length: 9.69\n",
      "avg length: 9.56\n",
      "avg length: 119.17\n",
      "avg length: 9.45\n",
      "avg length: 9.15\n",
      "avg length: 154.11\n",
      "avg length: 9.55\n",
      "avg length: 183.23\n",
      "avg length: 196.57\n",
      "avg length: 90.65\n",
      "avg length: 74.82\n",
      "avg length: 9.39\n",
      "avg length: 9.39\n",
      "avg length: 9.45\n",
      "avg length: 9.26\n",
      "avg length: 35.19\n",
      "avg length: 200.0\n",
      "avg length: 30.63\n",
      "avg length: 8.98\n",
      "avg length: 9.63\n",
      "avg length: 9.15\n",
      "avg length: 9.56\n",
      "avg length: 200.0\n",
      "avg length: 53.15\n",
      "avg length: 9.47\n",
      "avg length: 8.85\n",
      "avg length: 9.61\n",
      "avg length: 55.71\n",
      "avg length: 102.63\n",
      "avg length: 9.63\n",
      "avg length: 12.93\n",
      "avg length: 9.78\n",
      "avg length: 60.53\n",
      "avg length: 37.41\n",
      "avg length: 59.47\n",
      "avg length: 126.57\n",
      "avg length: 184.93\n",
      "avg length: 8.86\n",
      "avg length: 9.68\n",
      "avg length: 8.96\n",
      "avg length: 36.36\n",
      "avg length: 76.28\n",
      "avg length: 70.06\n",
      "avg length: 9.78\n",
      "avg length: 9.76\n",
      "avg length: 117.26\n",
      "avg length: 9.17\n"
     ]
    },
    {
     "data": {
      "image/png": "[encoded data removed]",
      "text/plain": [
       "<matplotlib.figure.Figure at 0x1044de1d0>"
      ]
     },
     "metadata": {},
     "output_type": "display_data"
    },
    {
     "name": "stdout",
     "output_type": "stream",
     "text": [
      "***Final run with final weights***: 200\n"
     ]
    }
   ],
   "source": [
    "if __name__ == '__main__':\n",
    "    env = gym.make('CartPole-v0')\n",
    "    episode_lengths, params = random_search(env)\n",
    "    plt.plot(episode_lengths)\n",
    "    plt.show()\n",
    "\n",
    "    # play a final set of episodes\n",
    "    env = wrappers.Monitor(env, 'first_video')\n",
    "    print(\"***Final run with final weights***:\", play_one_episode(env, params))"
   ]
  },
  {
   "cell_type": "code",
   "execution_count": null,
   "metadata": {
    "collapsed": true
   },
   "outputs": [],
   "source": []
  }
 ],
 "metadata": {
  "kernelspec": {
   "display_name": "Python 3",
   "language": "python",
   "name": "python3"
  },
  "language_info": {
   "codemirror_mode": {
    "name": "ipython",
    "version": 3
   },
   "file_extension": ".py",
   "mimetype": "text/x-python",
   "name": "python",
   "nbconvert_exporter": "python",
   "pygments_lexer": "ipython3",
   "version": "3.6.1"
  }
 },
 "nbformat": 4,
 "nbformat_minor": 2
}
