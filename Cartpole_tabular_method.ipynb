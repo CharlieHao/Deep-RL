{
 "cells": [
  {
   "cell_type": "markdown",
   "metadata": {},
   "source": [
    "## CASE ONE: CARTPOLE with BINS : tabular method"
   ]
  },
  {
   "cell_type": "code",
   "execution_count": 1,
   "metadata": {
    "collapsed": true
   },
   "outputs": [],
   "source": [
    "# 1.reality:\n",
    "#   some angle are impossible\n",
    "#   large velocity is highly unlikely\n",
    "# 2.cut up relevant part of state space into boxes: tabular method\n",
    "# Q: how to choose box size, what if lie out of scope(can extend one bx to inf)\n",
    "# default reward: +1 for every step\n",
    "# fall: -300"
   ]
  },
  {
   "cell_type": "code",
   "execution_count": 2,
   "metadata": {},
   "outputs": [],
   "source": [
    "import gym\n",
    "import os \n",
    "import sys\n",
    "import numpy as np\n",
    "import pandas as pd\n",
    "import matplotlib.pyplot as plt\n",
    "from gym import wrappers\n",
    "from datetime import datetime"
   ]
  },
  {
   "cell_type": "markdown",
   "metadata": {},
   "source": [
    "#### 1. generate tabular"
   ]
  },
  {
   "cell_type": "code",
   "execution_count": 3,
   "metadata": {
    "collapsed": true
   },
   "outputs": [],
   "source": [
    "def generate_state(features):\n",
    "    return int(\"\".join(map(lambda feature: str(int(feature)), features)))"
   ]
  },
  {
   "cell_type": "code",
   "execution_count": 4,
   "metadata": {
    "collapsed": true
   },
   "outputs": [],
   "source": [
    "def to_bin(value, bins):\n",
    "    return np.digitize(x=[value], bins=bins)[0]"
   ]
  },
  {
   "cell_type": "code",
   "execution_count": 5,
   "metadata": {
    "collapsed": true
   },
   "outputs": [],
   "source": [
    "class FeatureTransformer(object):\n",
    "    def __init__(self):\n",
    "        self.cart_position_bins = np.linspace(-2.4, 2.4, 9)\n",
    "        self.cart_velocity_bins = np.linspace(-2, 2, 9) # (-inf, inf)\n",
    "        self.pole_angle_bins = np.linspace(-0.4, 0.4, 9)\n",
    "        self.pole_velocity_bins = np.linspace(-3.5, 3.5, 9) # (-inf, inf) \n",
    "\n",
    "    def transform(self, observation):\n",
    "        # returns an int\n",
    "        cart_pos, cart_vel, pole_angle, pole_vel = observation\n",
    "        return generate_state([\n",
    "          to_bin(cart_pos, self.cart_position_bins),\n",
    "          to_bin(cart_vel, self.cart_velocity_bins),\n",
    "          to_bin(pole_angle, self.pole_angle_bins),\n",
    "          to_bin(pole_vel, self.pole_velocity_bins),\n",
    "        ])"
   ]
  },
  {
   "cell_type": "markdown",
   "metadata": {},
   "source": [
    "#### 2. Agent"
   ]
  },
  {
   "cell_type": "code",
   "execution_count": 6,
   "metadata": {
    "collapsed": true
   },
   "outputs": [],
   "source": [
    "class Agent(object):\n",
    "    def __init__(self, env, feature_transformer):\n",
    "        self.env = env\n",
    "        self.feature_transformer = feature_transformer\n",
    "\n",
    "        num_states = 10**env.observation_space.shape[0]\n",
    "        num_actions = env.action_space.n\n",
    "        self.Q = np.random.uniform(low=-1, high=1, size=(num_states, num_actions))\n",
    "\n",
    "    def predict(self, s):\n",
    "        x = self.feature_transformer.transform(s)\n",
    "        return self.Q[x]\n",
    "\n",
    "    def update(self, s, a, G):\n",
    "        x = self.feature_transformer.transform(s)\n",
    "        self.Q[x,a] += 1e-2*(G - self.Q[x,a])\n",
    "\n",
    "    def sample_action(self, s, eps):\n",
    "        if np.random.random() < eps:\n",
    "            return self.env.action_space.sample()\n",
    "        else:\n",
    "            p = self.predict(s)\n",
    "            return np.argmax(p)  "
   ]
  },
  {
   "cell_type": "markdown",
   "metadata": {},
   "source": [
    "#### 3.one episode"
   ]
  },
  {
   "cell_type": "code",
   "execution_count": 7,
   "metadata": {
    "collapsed": true
   },
   "outputs": [],
   "source": [
    "def play_one(agent, eps, gamma):\n",
    "    observation = env.reset()\n",
    "    done = False\n",
    "    totalreward = 0\n",
    "    iters = 0\n",
    "    while not done and iters < 10000:\n",
    "        action = agent.sample_action(observation, eps) # sample_action: epsilon greedy \n",
    "        prev_observation = observation\n",
    "        observation, reward, done, info = env.step(action)\n",
    "\n",
    "        totalreward += reward\n",
    "\n",
    "        if done and iters < 199:\n",
    "            reward = -300\n",
    "\n",
    "        # update the model\n",
    "        G = reward + gamma*np.max(agent.predict(observation))\n",
    "        agent.update(prev_observation, action, G)\n",
    "\n",
    "        iters += 1\n",
    "\n",
    "    return totalreward"
   ]
  },
  {
   "cell_type": "markdown",
   "metadata": {},
   "source": [
    "#### 4. plot average"
   ]
  },
  {
   "cell_type": "code",
   "execution_count": 8,
   "metadata": {},
   "outputs": [],
   "source": [
    "def plot_running_avg(totalrewards):\n",
    "    N = len(totalrewards)\n",
    "    running_avg = np.empty(N)\n",
    "    for t in range(N):\n",
    "        running_avg[t] = totalrewards[max(0, t-100):(t+1)].mean()\n",
    "    plt.plot(running_avg)\n",
    "    plt.title(\"Running Average\")\n",
    "    plt.show()"
   ]
  },
  {
   "cell_type": "markdown",
   "metadata": {},
   "source": [
    "#### 5. main loop"
   ]
  },
  {
   "cell_type": "code",
   "execution_count": 9,
   "metadata": {},
   "outputs": [
    {
     "name": "stdout",
     "output_type": "stream",
     "text": [
      "episode: 0 total reward: 16.0 eps: 1.0\n",
      "episode: 100 total reward: 76.0 eps: 0.099503719021\n",
      "episode: 200 total reward: 50.0 eps: 0.0705345615859\n",
      "episode: 300 total reward: 54.0 eps: 0.0576390417704\n",
      "episode: 400 total reward: 10.0 eps: 0.0499376169439\n",
      "episode: 500 total reward: 114.0 eps: 0.0446767051609\n",
      "episode: 600 total reward: 200.0 eps: 0.0407908508224\n",
      "episode: 700 total reward: 46.0 eps: 0.03776947873\n",
      "episode: 800 total reward: 31.0 eps: 0.0353332626669\n",
      "episode: 900 total reward: 43.0 eps: 0.0333148302326\n",
      "episode: 1000 total reward: 60.0 eps: 0.0316069770621\n",
      "episode: 1100 total reward: 10.0 eps: 0.0301374387339\n",
      "episode: 1200 total reward: 37.0 eps: 0.0288554928412\n",
      "episode: 1300 total reward: 49.0 eps: 0.0277243486501\n",
      "episode: 1400 total reward: 76.0 eps: 0.0267165842573\n",
      "episode: 1500 total reward: 33.0 eps: 0.025811286646\n",
      "episode: 1600 total reward: 132.0 eps: 0.0249921911602\n",
      "episode: 1700 total reward: 51.0 eps: 0.0242464322484\n",
      "episode: 1800 total reward: 172.0 eps: 0.0235636814813\n",
      "episode: 1900 total reward: 139.0 eps: 0.022935538513\n",
      "episode: 2000 total reward: 84.0 eps: 0.0223550917005\n",
      "episode: 2100 total reward: 125.0 eps: 0.0218165952144\n",
      "episode: 2200 total reward: 167.0 eps: 0.021315227816\n",
      "episode: 2300 total reward: 200.0 eps: 0.0208469099613\n",
      "episode: 2400 total reward: 169.0 eps: 0.0204081632653\n",
      "episode: 2500 total reward: 200.0 eps: 0.0199960011996\n",
      "episode: 2600 total reward: 166.0 eps: 0.0196078431373\n",
      "episode: 2700 total reward: 200.0 eps: 0.0192414460721\n",
      "episode: 2800 total reward: 141.0 eps: 0.0188948498713\n",
      "episode: 2900 total reward: 169.0 eps: 0.0185663330017\n",
      "episode: 3000 total reward: 139.0 eps: 0.0182543764409\n",
      "episode: 3100 total reward: 200.0 eps: 0.0179576340436\n",
      "episode: 3200 total reward: 168.0 eps: 0.017674908041\n",
      "episode: 3300 total reward: 144.0 eps: 0.0174051286546\n",
      "episode: 3400 total reward: 121.0 eps: 0.0171473370324\n",
      "episode: 3500 total reward: 200.0 eps: 0.0169006708854\n",
      "episode: 3600 total reward: 136.0 eps: 0.016664352334\n",
      "episode: 3700 total reward: 149.0 eps: 0.0164376775728\n",
      "episode: 3800 total reward: 175.0 eps: 0.0162200080419\n",
      "episode: 3900 total reward: 117.0 eps: 0.0160107628502\n",
      "episode: 4000 total reward: 200.0 eps: 0.0158094122478\n",
      "episode: 4100 total reward: 200.0 eps: 0.0156154719791\n",
      "episode: 4200 total reward: 130.0 eps: 0.0154284983795\n",
      "episode: 4300 total reward: 122.0 eps: 0.0152480841033\n",
      "episode: 4400 total reward: 200.0 eps: 0.0150738543882\n",
      "episode: 4500 total reward: 154.0 eps: 0.0149054637794\n",
      "episode: 4600 total reward: 200.0 eps: 0.0147425932468\n",
      "episode: 4700 total reward: 200.0 eps: 0.0145849476421\n",
      "episode: 4800 total reward: 200.0 eps: 0.0144322534483\n",
      "episode: 4900 total reward: 129.0 eps: 0.0142842567829\n",
      "episode: 5000 total reward: 162.0 eps: 0.0141407216223\n",
      "episode: 5100 total reward: 160.0 eps: 0.0140014282185\n",
      "episode: 5200 total reward: 200.0 eps: 0.013866171684\n",
      "episode: 5300 total reward: 96.0 eps: 0.0137347607238\n",
      "episode: 5400 total reward: 159.0 eps: 0.0136070164982\n",
      "episode: 5500 total reward: 130.0 eps: 0.0134827715985\n",
      "episode: 5600 total reward: 86.0 eps: 0.0133618691248\n",
      "episode: 5700 total reward: 137.0 eps: 0.013244161853\n",
      "episode: 5800 total reward: 150.0 eps: 0.0131295114803\n",
      "episode: 5900 total reward: 145.0 eps: 0.0130177879425\n",
      "episode: 6000 total reward: 199.0 eps: 0.0129088687931\n",
      "episode: 6100 total reward: 162.0 eps: 0.0128026386397\n",
      "episode: 6200 total reward: 124.0 eps: 0.0126989886293\n",
      "episode: 6300 total reward: 128.0 eps: 0.01259781598\n",
      "episode: 6400 total reward: 145.0 eps: 0.0124990235519\n",
      "episode: 6500 total reward: 200.0 eps: 0.0124025194557\n",
      "episode: 6600 total reward: 200.0 eps: 0.0123082166926\n",
      "episode: 6700 total reward: 148.0 eps: 0.0122160328254\n",
      "episode: 6800 total reward: 120.0 eps: 0.0121258896751\n",
      "episode: 6900 total reward: 129.0 eps: 0.0120377130421\n",
      "episode: 7000 total reward: 141.0 eps: 0.0119514324501\n",
      "episode: 7100 total reward: 200.0 eps: 0.0118669809085\n",
      "episode: 7200 total reward: 102.0 eps: 0.0117842946944\n",
      "episode: 7300 total reward: 89.0 eps: 0.0117033131503\n",
      "episode: 7400 total reward: 200.0 eps: 0.011623978497\n",
      "episode: 7500 total reward: 157.0 eps: 0.0115462356604\n",
      "episode: 7600 total reward: 193.0 eps: 0.011470032111\n",
      "episode: 7700 total reward: 161.0 eps: 0.0113953177143\n",
      "episode: 7800 total reward: 133.0 eps: 0.0113220445926\n",
      "episode: 7900 total reward: 129.0 eps: 0.0112501669959\n",
      "episode: 8000 total reward: 200.0 eps: 0.0111796411818\n",
      "episode: 8100 total reward: 130.0 eps: 0.0111104253036\n",
      "episode: 8200 total reward: 80.0 eps: 0.0110424793061\n",
      "episode: 8300 total reward: 125.0 eps: 0.0109757648282\n",
      "episode: 8400 total reward: 135.0 eps: 0.0109102451118\n",
      "episode: 8500 total reward: 147.0 eps: 0.0108458849165\n",
      "episode: 8600 total reward: 146.0 eps: 0.0107826504403\n",
      "episode: 8700 total reward: 154.0 eps: 0.0107205092449\n",
      "episode: 8800 total reward: 200.0 eps: 0.0106594301855\n",
      "episode: 8900 total reward: 200.0 eps: 0.0105993833458\n",
      "episode: 9000 total reward: 96.0 eps: 0.0105403399757\n",
      "episode: 9100 total reward: 152.0 eps: 0.010482272434\n",
      "episode: 9200 total reward: 196.0 eps: 0.0104251541338\n",
      "episode: 9300 total reward: 200.0 eps: 0.0103689594913\n",
      "episode: 9400 total reward: 200.0 eps: 0.010313663878\n",
      "episode: 9500 total reward: 138.0 eps: 0.0102592435749\n",
      "episode: 9600 total reward: 166.0 eps: 0.0102056757298\n",
      "episode: 9700 total reward: 110.0 eps: 0.0101529383175\n",
      "episode: 9800 total reward: 123.0 eps: 0.010101010101\n",
      "episode: 9900 total reward: 134.0 eps: 0.0100498705962\n",
      "avg reward for last 100 episodes: 161.57\n",
      "total steps: 1412888.0\n"
     ]
    },
    {
     "data": {
      "image/png": "[encoded data removed]",
      "text/plain": [
       "<matplotlib.figure.Figure at 0x114abeef0>"
      ]
     },
     "metadata": {},
     "output_type": "display_data"
    }
   ],
   "source": [
    "env = gym.make('CartPole-v0')\n",
    "featuretransformer = FeatureTransformer()\n",
    "agent = Agent(env, featuretransformer)\n",
    "gamma = 0.9\n",
    "\n",
    "if 'monitor' in sys.argv:\n",
    "    filename = os.path.basename(__file__).split('.')[0]\n",
    "    monitor_dir = './' + filename + '_' + str(datetime.now())\n",
    "    env = wrappers.Monitor(env, monitor_dir)\n",
    "\n",
    "N = 10000\n",
    "totalrewards = np.empty(N)\n",
    "for n in range(N):\n",
    "    eps = 1.0/np.sqrt(n+1)\n",
    "    totalreward = play_one(agent, eps, gamma)\n",
    "    totalrewards[n] = totalreward\n",
    "    if n % 100 == 0:\n",
    "        print(\"episode:\", n, \"total reward:\", totalreward, \"eps:\", eps)\n",
    "print(\"avg reward for last 100 episodes:\", totalrewards[-100:].mean())\n",
    "print(\"total steps:\", totalrewards.sum())\n",
    "\n",
    "plt.plot(totalrewards)\n",
    "plt.title(\"Rewards\")\n",
    "plt.show()"
   ]
  },
  {
   "cell_type": "code",
   "execution_count": 10,
   "metadata": {},
   "outputs": [
    {
     "data": {
      "image/png": "[encoded data removed]",
      "text/plain": [
       "<matplotlib.figure.Figure at 0x114aab8d0>"
      ]
     },
     "metadata": {},
     "output_type": "display_data"
    }
   ],
   "source": [
    "plot_running_avg(totalrewards)"
   ]
  },
  {
   "cell_type": "code",
   "execution_count": null,
   "metadata": {
    "collapsed": true
   },
   "outputs": [],
   "source": []
  },
  {
   "cell_type": "code",
   "execution_count": null,
   "metadata": {
    "collapsed": true
   },
   "outputs": [],
   "source": []
  }
 ],
 "metadata": {
  "kernelspec": {
   "display_name": "Python 3",
   "language": "python",
   "name": "python3"
  },
  "language_info": {
   "codemirror_mode": {
    "name": "ipython",
    "version": 3
   },
   "file_extension": ".py",
   "mimetype": "text/x-python",
   "name": "python",
   "nbconvert_exporter": "python",
   "pygments_lexer": "ipython3",
   "version": "3.6.1"
  }
 },
 "nbformat": 4,
 "nbformat_minor": 2
}
